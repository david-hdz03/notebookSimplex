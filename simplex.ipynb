{
 "cells": [
  {
   "cell_type": "code",
   "execution_count": 5,
   "id": "fb0eb4e8-175e-4f36-9047-df0f4c479a40",
   "metadata": {},
   "outputs": [
    {
     "name": "stdin",
     "output_type": "stream",
     "text": [
      "Ingrese la cantidad de variables:  2\n",
      "Ingrese la cantidad de restricciones:  2\n",
      "¿Es un problema de maximización o minimización?\n",
      " Maximizar [1] \n",
      " Minimizar[2]:  2\n"
     ]
    },
    {
     "name": "stdout",
     "output_type": "stream",
     "text": [
      "Ingrese el coeficiente de la variable x1 en la función objetivo: \n"
     ]
    },
    {
     "name": "stdin",
     "output_type": "stream",
     "text": [
      " 20000000\n"
     ]
    },
    {
     "name": "stdout",
     "output_type": "stream",
     "text": [
      "Ingrese el coeficiente de la variable x2 en la función objetivo: \n"
     ]
    },
    {
     "name": "stdin",
     "output_type": "stream",
     "text": [
      " 0\n"
     ]
    },
    {
     "name": "stdout",
     "output_type": "stream",
     "text": [
      "Ingrese el coeficiente de la variable x1 en la restricción 1: \n"
     ]
    },
    {
     "name": "stdin",
     "output_type": "stream",
     "text": [
      " 1\n"
     ]
    },
    {
     "name": "stdout",
     "output_type": "stream",
     "text": [
      "Ingrese el coeficiente de la variable x2 en la restricción 1: \n"
     ]
    },
    {
     "name": "stdin",
     "output_type": "stream",
     "text": [
      " 1\n"
     ]
    },
    {
     "name": "stdout",
     "output_type": "stream",
     "text": [
      "Ingrese el tipo de restricción: \n",
      " Menor o igual [1] \n",
      " Mayor o igual [2] \n",
      " Igual [3]: \n"
     ]
    },
    {
     "name": "stdin",
     "output_type": "stream",
     "text": [
      " 2\n"
     ]
    },
    {
     "name": "stdout",
     "output_type": "stream",
     "text": [
      "Ingrese el valor del lado derecho de la restricción 1: \n"
     ]
    },
    {
     "name": "stdin",
     "output_type": "stream",
     "text": [
      " 0.1\n"
     ]
    },
    {
     "name": "stdout",
     "output_type": "stream",
     "text": [
      "Ingrese el coeficiente de la variable x1 en la restricción 2: \n"
     ]
    },
    {
     "name": "stdin",
     "output_type": "stream",
     "text": [
      " -1\n"
     ]
    },
    {
     "name": "stdout",
     "output_type": "stream",
     "text": [
      "Ingrese el coeficiente de la variable x2 en la restricción 2: \n"
     ]
    },
    {
     "name": "stdin",
     "output_type": "stream",
     "text": [
      " 4\n"
     ]
    },
    {
     "name": "stdout",
     "output_type": "stream",
     "text": [
      "Ingrese el tipo de restricción: \n",
      " Menor o igual [1] \n",
      " Mayor o igual [2] \n",
      " Igual [3]: \n"
     ]
    },
    {
     "name": "stdin",
     "output_type": "stream",
     "text": [
      " 2\n"
     ]
    },
    {
     "name": "stdout",
     "output_type": "stream",
     "text": [
      "Ingrese el valor del lado derecho de la restricción 2: \n"
     ]
    },
    {
     "name": "stdin",
     "output_type": "stream",
     "text": [
      " 0.12\n"
     ]
    }
   ],
   "source": [
    "import numpy as np\n",
    "import pandas as pd\n",
    "\n",
    "# Cantidad de variables\n",
    "numVar = int(input(\"Ingrese la cantidad de variables: \"))\n",
    "\n",
    "# Cantidad de restricciones\n",
    "numRest = int(input(\"Ingrese la cantidad de restricciones: \"))\n",
    "\n",
    "# Tipo de problema\n",
    "tipo = int(input(\n",
    "    \"¿Es un problema de maximización o minimización?\\n Maximizar [1] \\n Minimizar[2]: \"\n",
    "))\n",
    "\n",
    "# Creación de la función objetivo\n",
    "for i in range(numVar + 1):\n",
    "    if i == 0:\n",
    "        matZ = np.array([1])\n",
    "    else:\n",
    "        print(\n",
    "            \"Ingrese el coeficiente de la variable x\"\n",
    "            + str(i)\n",
    "            + \" en la función objetivo: \"\n",
    "        )\n",
    "        coef = float(input())\n",
    "        # Agregar coeficientes a la matriz Z\n",
    "        matZ = np.append(matZ, coef)\n",
    "\n",
    "# Creación de las restriccion\n",
    "# Inicializa matA con ceros\n",
    "matA = np.zeros(\n",
    "    (numRest, numVar + numRest + 2)\n",
    ")  # Se añade 2 para la columna Z y el valor RHS\n",
    "\n",
    "for i in range(numRest):\n",
    "    matR = np.zeros(numVar + numRest + 2)  # Se corrige el tamaño de matR\n",
    "    if i == 0:\n",
    "        matR[0] = 1\n",
    "    else:\n",
    "        matR[0] = 0\n",
    "\n",
    "    for j in range(numVar):\n",
    "        print(\n",
    "            \"Ingrese el coeficiente de la variable x\"\n",
    "            + str(j + 1)\n",
    "            + \" en la restricción \"\n",
    "            + str(i + 1)\n",
    "            + \": \"\n",
    "        )\n",
    "        coef = float(input())\n",
    "        matR[j + 1] = coef\n",
    "\n",
    "    print(\"Ingrese el tipo de restricción: \\n Menor o igual [1] \\n Mayor o igual [2] \\n Igual [3]: \")\n",
    "    tipoRest = int(input())\n",
    "    print(\"Ingrese el valor del lado derecho de la restricción \" + str(i + 1) + \": \")\n",
    "    ladoDer = float(input())\n",
    "    matR[-1] = ladoDer  # Valor RHS\n",
    "\n",
    "    matR[numVar + i + 1] = 1  # Variable de holgura\n",
    "\n",
    "    matA[i, :] = matR  # Asigna matR a la fila correspondiente en matA\n",
    "    \n",
    "    if tipo == 1 and tipoRest == 2:\n",
    "        matA[i, 1:numVar + 1] = -matA[i, 1:numVar + 1]\n",
    "    \n",
    "    if tipoRest == 3:\n",
    "        nueva_fila = matA[i].copy()\n",
    "        # Aplica la operación a los elementos especificados\n",
    "        nueva_fila[1:numVar + 1] = -nueva_fila[1:numVar + 1]\n",
    "        matA = np.vstack([matA, nueva_fila])\n",
    "        \n",
    "    print(\"matA: \", matA)\n",
    "\n",
    "# Agregar holguras a la función objetivo\n",
    "for i in range(numRest + 1):\n",
    "    matZ = np.append(matZ, 0)\n",
    "\n",
    "# Crear encabezados de las variables\n",
    "\n",
    "for i in range(numVar + 1):\n",
    "    if i == 0:\n",
    "        var = np.array([\"Z\"])\n",
    "    else:\n",
    "        var = np.append(var, \"x\" + str(i))\n",
    "\n",
    "for i in range(numRest):\n",
    "    var = np.append(var, \"h\" + str(i + 1))\n",
    "\n",
    "var = np.append(var, \"Const\")\n",
    "\n",
    "\n",
    "# Volver negativos los coeficientes de la función objetivo\n",
    "matZ = -matZ\n",
    "matZ[0] = -matZ[0]\n",
    "matZ[-1] = -matZ[-1]\n",
    "\n",
    "\n",
    "def simplex(matA, matZ):\n",
    "    # Se obtiene el número de filas y columnas de la matriz A\n",
    "    numFilas, numCols = matA.shape\n",
    "\n",
    "    # Se obtiene el número de variables básicas\n",
    "    numVarBas = numFilas\n",
    "\n",
    "    # Se obtiene el número de variables no básicas\n",
    "    numVarNoBas = numCols - numVarBas\n",
    "\n",
    "    # Valor más negativo de la fila Z\n",
    "    valNeg = np.min(matZ)\n",
    "    # Indice de la columna pivote\n",
    "    colPiv = np.where(matZ == valNeg)[0][0]\n",
    "\n",
    "    # Se obtiene el renglón pivote. Busca el menor coeficiente de const/coeficiente de la columna pivote\n",
    "    minVal = np.inf\n",
    "    for i in range(numFilas):\n",
    "        if matA[i, colPiv] > 0:\n",
    "            val = matA[i, -1] / matA[i, colPiv]\n",
    "            if val < minVal:\n",
    "                minVal = val\n",
    "                filPiv = i\n",
    "\n",
    "    # Se obtiene el elemento pivote\n",
    "    elemPiv = matA[filPiv, colPiv]\n",
    "    print(\"Elemento pivote: \", elemPiv)\n",
    "    print(\"\\n\")\n",
    "\n",
    "    # Volvemos 1 al elemento pivote\n",
    "    matA[filPiv, :] = matA[filPiv, :] / elemPiv\n",
    "\n",
    "    # Hacer ceros los elementos de la columna pivote\n",
    "    for i in range(numFilas):\n",
    "        if i != filPiv:\n",
    "            matA[i, :] = matA[i, :] - matA[i, colPiv] * matA[filPiv, :]\n",
    "\n",
    "    # Hacer cero el elemento de la fila Z\n",
    "    matZ = matZ - matZ[colPiv] * matA[filPiv, :]\n",
    "\n",
    "    # Comprobar que no haya valores negativos en la fila Z\n",
    "    valNeg = np.min(matZ)\n",
    "    if valNeg < 0:\n",
    "        fin = False\n",
    "    else:\n",
    "        fin = True\n",
    "\n",
    "    return matA, matZ, fin\n",
    "\n",
    "\n",
    "def obtenerDual(matA, matZ):\n",
    "\n",
    "    # El ultimo elemento de cada fila en MatA será el nuevo valor de cada variable en la función objetivo\n",
    "    dual = matA[:, -1]\n",
    "    nuevMatZ = np.zeros(len(dual) + 1)\n",
    "    # Primer elemento de la matriz Z es 1\n",
    "\n",
    "    nuevMatZ[0] = 1\n",
    "    nuevVar = np.array([\"Z\"])\n",
    "    nuevMatA = np.empty(0)\n",
    "\n",
    "    # Agregar los valores del dual a la matriz Z\n",
    "    for i in range(len(dual)):\n",
    "        nuevMatZ[i + 1] = dual[i]\n",
    "        nuevVar = np.append(nuevVar, \"x\" + str(i + 1))\n",
    "    # Agregar los valores de holgura a la matriz Z\n",
    "    for i in range(numVar):\n",
    "        nuevMatZ = np.append(nuevMatZ, 0)\n",
    "        nuevVar = np.append(nuevVar, \"h\" + str(i + 1))\n",
    "\n",
    "    nuevVar = np.append(nuevVar, \"Const\")\n",
    "\n",
    "    # Los valores de cada columna en matA serán los coeficientes de cada restricción\n",
    "    for i in range(len(dual)):\n",
    "        matA[i, -1] = 0\n",
    "    print(matA)\n",
    "\n",
    "    intermediate_cols = matA[:, 1:-1].T\n",
    "    nuevMatA = np.empty((0, numRest))\n",
    "    for i in range(numVar):\n",
    "        nuevMatA = np.vstack((nuevMatA, intermediate_cols[i]))\n",
    "        print(\"intermediate_cols[i]: \", intermediate_cols[i])\n",
    "\n",
    "    for i in range(numVar):\n",
    "        holgura = np.zeros(\n",
    "            (nuevMatA.shape[0], 1)\n",
    "        )  # Crea una columna de ceros para la holgura\n",
    "        holgura[i, 0] = 1  # Agrega un 1 en la fila correspondiente para la holgura\n",
    "        nuevMatA = np.hstack(\n",
    "            [nuevMatA, holgura]\n",
    "        )  # Agrega la columna de holgura a la matriz\n",
    "\n",
    "    nuevMatA = np.insert(nuevMatA, 0, values=0, axis=1)\n",
    "    nuevMatZ = np.append(nuevMatZ, 0)\n",
    "\n",
    "    nuevasRest = matZ[1 : 1 + numVar]\n",
    "    nuevasRest = -nuevasRest\n",
    "    print(\"nuevasRest: \", nuevasRest)\n",
    "\n",
    "    nuevMatA = np.column_stack((nuevMatA, nuevasRest))\n",
    "\n",
    "    # print(\"matA: \", matA)\n",
    "    # print(\"intermediate_cols: \", intermediate_cols)\n",
    "    # print(\"nuevMatA: \", nuevMatA)\n",
    "    # print(matZ)\n",
    "    nuevMatZ = -nuevMatZ\n",
    "    nuevMatZ[0] = -nuevMatZ[0]\n",
    "    nuevMatZ[-1] = -nuevMatZ[-1]\n",
    "    print(\"Las variables son: \", nuevVar)\n",
    "    print(\"La matriz Z es: \", nuevMatZ)\n",
    "    print(\"La matriz A es: \\n\", nuevMatA)\n",
    "\n",
    "    return nuevMatA, nuevMatZ, nuevVar\n",
    "\n",
    "\n",
    "if tipo == 1:\n",
    "    fin = False\n",
    "    print(\"Matriz inicial\")\n",
    "    df = pd.DataFrame([matZ] + matA.tolist(), columns=var)\n",
    "    df.iloc[1:, 0] = (\n",
    "        0  # Asegurándose de que todas las entradas bajo \"Z\" en restricciones sean 0\n",
    "    )\n",
    "    print(df)\n",
    "\n",
    "    # Se ejecuta el método simplex\n",
    "    iteracion = 1\n",
    "    while not fin:\n",
    "        matA, matZ, fin = simplex(matA, matZ)\n",
    "        print(\"Iteración \", iteracion)\n",
    "        # Se crea un DataFrame con las matrices\n",
    "        matZ[0] = 1.0  # Ajusta el valor de Z a 1\n",
    "        df = pd.DataFrame([matZ] + matA.tolist(), columns=var)\n",
    "        df.iloc[1:, 0] = (\n",
    "            0  # Asegurándose de que todas las entradas bajo \"Z\" en restricciones sean 0\n",
    "        )\n",
    "        print(df)\n",
    "        iteracion += 1\n",
    "    if fin:\n",
    "        print(\"Solución óptima encontrada\")\n",
    "        matZ[0] = 1.0  # Ajusta el valor de Z a 1\n",
    "        df = pd.DataFrame([matZ] + matA.tolist(), columns=var)\n",
    "        df.iloc[1:, 0] = (\n",
    "            0  # Asegurándose de que todas las entradas bajo \"Z\" en restricciones sean 0\n",
    "        )\n",
    "        print(df)\n",
    "\n",
    "if tipo == 2:\n",
    "    # Se obtiene la solución dual\n",
    "    newMatA, newMatZ, newVar = obtenerDual(matA, matZ)\n",
    "    fin = False\n",
    "    print(\"Matriz inicial\")\n",
    "    df = pd.DataFrame([newMatZ] + newMatA.tolist(), columns=newVar)\n",
    "    df.iloc[1:, 0] = (\n",
    "        0  # Asegurándose de que todas las entradas bajo \"Z\" en restricciones sean 0\n",
    "    )\n",
    "    print(df)\n",
    "\n",
    "    # Se ejecuta el método simplex\n",
    "    iteracion = 1\n",
    "    while not fin:\n",
    "        newMatA, newMatZ, fin = simplex(newMatA, newMatZ)\n",
    "        print(\"Iteración \", iteracion)\n",
    "        # Se crea un DataFrame con las matrices\n",
    "        matZ[0] = 1.0  # Ajusta el valor de Z a 1\n",
    "        df = pd.DataFrame([newMatZ] + newMatA.tolist(), columns=newVar)\n",
    "        df.iloc[1:, 0] = (\n",
    "            0  # Asegurándose de que todas las entradas bajo \"Z\" en restricciones sean 0\n",
    "        )\n",
    "        print(df)\n",
    "        iteracion += 1\n",
    "    if fin:\n",
    "        print(\"Solución óptima encontrada\")\n",
    "        newMatZ[0] = 1.0  # Ajusta el valor de Z a 1\n",
    "        df = pd.DataFrame([newMatZ] + newMatA.tolist(), columns=newVar)\n",
    "        df.iloc[1:, 0] = (\n",
    "            0  # Asegurándose de que todas las entradas bajo \"Z\" en restricciones sean 0\n",
    "        )\n",
    "        print(df)\n"
   ]
  },
  {
   "cell_type": "code",
   "execution_count": null,
   "id": "680e602f-fe81-4387-b3ea-b244b5b461a3",
   "metadata": {},
   "outputs": [],
   "source": []
  },
  {
   "cell_type": "code",
   "execution_count": null,
   "id": "4be8baa2-8777-49c6-93c0-121a7ab56d6d",
   "metadata": {},
   "outputs": [],
   "source": []
  }
 ],
 "metadata": {
  "kernelspec": {
   "display_name": "Python 3 (ipykernel)",
   "language": "python",
   "name": "python3"
  },
  "language_info": {
   "codemirror_mode": {
    "name": "ipython",
    "version": 3
   },
   "file_extension": ".py",
   "mimetype": "text/x-python",
   "name": "python",
   "nbconvert_exporter": "python",
   "pygments_lexer": "ipython3",
   "version": "3.12.0"
  }
 },
 "nbformat": 4,
 "nbformat_minor": 5
}
